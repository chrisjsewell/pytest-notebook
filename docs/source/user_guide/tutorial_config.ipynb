{
 "cells": [
  {
   "cell_type": "markdown",
   "metadata": {},
   "source": [
    ".. _configuring_pytest_notebook:\n",
    "\n",
    "# Configuring pytest-notebook"
   ]
  },
  {
   "cell_type": "markdown",
   "metadata": {},
   "source": [
    "Testing can be configured *via*;\n",
    "\n",
    "1. The pytest configuration file.\n",
    "2. The pytest command-line interface.\n",
    "3. The notebook and cell level metadata.\n",
    "\n",
    "To see the options available for (1) and (2), `pytest -h` can be used (look for options starting `nb`), and for (3) see :ref:`nb_metadata_schema`."
   ]
  },
  {
   "cell_type": "markdown",
   "metadata": {},
   "source": [
    "To access notebook metadata, either open the notebook as a text document, or use the Jupyter Notebook interface:\n",
    "\n",
    "![Accessing notebook metadata.](images/nb_metadata.png)"
   ]
  },
  {
   "cell_type": "code",
   "execution_count": 1,
   "metadata": {},
   "outputs": [],
   "source": [
    "import nbformat\n"
   ]
  },
  {
   "cell_type": "code",
   "execution_count": 2,
   "metadata": {
    "scrolled": true
   },
   "outputs": [],
   "source": [
    "%load_ext pytest_notebook.ipy_magic"
   ]
  },
  {
   "cell_type": "markdown",
   "metadata": {},
   "source": [
    "## Ignoring Elements of the Notebook"
   ]
  },
  {
   "cell_type": "markdown",
   "metadata": {},
   "source": [
    "When comparing the initial and final notebook,\n",
    "differences are denoted by \"paths\" in the notebook;\n",
    "a list of dictionary keys and list indices,\n",
    "delimited by '/'."
   ]
  },
  {
   "cell_type": "code",
   "execution_count": 3,
   "metadata": {},
   "outputs": [],
   "source": [
    "notebook = nbformat.v4.new_notebook(\n",
    "    cells=[\n",
    "        nbformat.v4.new_code_cell(\"print(1)\", execution_count=1, outputs=[]),\n",
    "        nbformat.v4.new_code_cell(\n",
    "            \"print(1)\",\n",
    "            execution_count=3,\n",
    "            outputs=[\n",
    "                nbformat.v4.new_output(output_type=\"stream\", name=\"stdout\", text=\"2\\n\")\n",
    "            ],\n",
    "        ),\n",
    "    ]\n",
    ")\n"
   ]
  },
  {
   "cell_type": "code",
   "execution_count": 4,
   "metadata": {},
   "outputs": [
    {
     "name": "stdout",
     "output_type": "stream",
     "text": [
      "\u001b[1m============================= test session starts ==============================\u001b[0m\n",
      "platform darwin -- Python 3.6.7, pytest-5.0.1, py-1.8.0, pluggy-0.12.0\n",
      "rootdir: /private/var/folders/dm/b2qnkb_n3r72slmpxlfmcjvm00lbnd/T/tmpzsmthy9a\n",
      "plugins: cov-2.7.1, datadir-1.3.0, regressions-1.0.5, notebook-0.3.1\n",
      "collected 1 item\n",
      "\n",
      "test_notebook1.ipynb \u001b[31mF\u001b[0m\u001b[36m                                                   [100%]\u001b[0m\n",
      "\n",
      "=================================== FAILURES ===================================\n",
      "\u001b[31m\u001b[1m____________________ notebook: nbregression(test_notebook1) ____________________\u001b[0m\n",
      "pytest_notebook.nb_regression.NBRegressionError: \n",
      "--- expected\n",
      "+++ obtained\n",
      "\u001b[34m## inserted before /cells/0/outputs/0:\u001b[0m\n",
      "\u001b[32m+  output:\n",
      "\u001b[32m+    output_type: stream\n",
      "\u001b[32m+    name: stdout\n",
      "\u001b[32m+    text:\n",
      "\u001b[32m+      1\n",
      "\n",
      "\u001b[0m\u001b[34m## replaced /cells/1/execution_count:\u001b[0m\n",
      "\u001b[31m-  3\n",
      "\u001b[32m+  2\n",
      "\n",
      "\u001b[0m\u001b[34m## modified /cells/1/outputs/0/text:\u001b[0m\n",
      "\u001b[36m@@ -1 +1 @@\u001b[m\n",
      "\u001b[31m-2\u001b[m\n",
      "\u001b[32m+\u001b[m\u001b[32m1\u001b[m\n",
      "\n",
      "\u001b[0m\u001b[34m## added /metadata/language_info:\u001b[0m\n",
      "\u001b[32m+  codemirror_mode:\n",
      "\u001b[32m+    name: ipython\n",
      "\u001b[32m+    version: 3\n",
      "\u001b[32m+  file_extension: .py\n",
      "\u001b[32m+  mimetype: text/x-python\n",
      "\u001b[32m+  name: python\n",
      "\u001b[32m+  nbconvert_exporter: python\n",
      "\u001b[32m+  pygments_lexer: ipython3\n",
      "\u001b[32m+  version: 3.6.7\n",
      "\n",
      "\u001b[0m\n",
      "\u001b[31m\u001b[1m===================== 1 failed, 1 warnings in 1.93 seconds =====================\u001b[0m\n"
     ]
    }
   ],
   "source": [
    "%%pytest --color=yes --show-capture=no --disable-warnings --nb-test-files\n",
    "\n",
    "***\n",
    "(nbformat.writes(notebook), \"test_notebook1.ipynb\")\n",
    "***"
   ]
  },
  {
   "cell_type": "markdown",
   "metadata": {},
   "source": [
    "We can set paths to ignore, in the configuration file,\n",
    "notebook metadata, or cell metadata.\n",
    "\n",
    ".. note::\n",
    "\n",
    "    If the path is set in a cell metadata,\n",
    "    it should be relative to that cell,\n",
    "    i.e. /outputs not /cells/0/outputs"
   ]
  },
  {
   "cell_type": "code",
   "execution_count": 5,
   "metadata": {},
   "outputs": [],
   "source": [
    "notebook.metadata[\"nbreg\"] = {\"diff_ignore\": [\"/cells/0/outputs/\"]}\n",
    "notebook.cells[1].metadata[\"nbreg\"] = {\"diff_ignore\": [\"/outputs/0/text\"]}\n"
   ]
  },
  {
   "cell_type": "code",
   "execution_count": 6,
   "metadata": {},
   "outputs": [
    {
     "name": "stdout",
     "output_type": "stream",
     "text": [
      "\u001b[1m============================= test session starts ==============================\u001b[0m\n",
      "platform darwin -- Python 3.6.7, pytest-5.0.1, py-1.8.0, pluggy-0.12.0\n",
      "rootdir: /private/var/folders/dm/b2qnkb_n3r72slmpxlfmcjvm00lbnd/T/tmpsy_cg5x1, inifile: pytest.ini\n",
      "plugins: cov-2.7.1, datadir-1.3.0, regressions-1.0.5, notebook-0.3.1\n",
      "collected 1 item\n",
      "\n",
      "test_notebook1.ipynb \u001b[32m.\u001b[0m\u001b[36m                                                   [100%]\u001b[0m\n",
      "\n",
      "\u001b[33m\u001b[1m===================== 1 passed, 1 warnings in 1.84 seconds =====================\u001b[0m\n"
     ]
    }
   ],
   "source": [
    "%%pytest --color=yes --show-capture=no --disable-warnings --nb-test-files\n",
    "\n",
    "---\n",
    "[pytest]\n",
    "nb_diff_ignore =\n",
    "    /metadata/language_info\n",
    "    /cells/1/execution_count\n",
    "---\n",
    "\n",
    "***\n",
    "(nbformat.writes(notebook), \"test_notebook1.ipynb\")\n",
    "***"
   ]
  },
  {
   "cell_type": "markdown",
   "metadata": {},
   "source": [
    "Wildcard `*` can also be used, in place of indices,\n",
    "to apply to all indices in the list."
   ]
  },
  {
   "cell_type": "code",
   "execution_count": 7,
   "metadata": {},
   "outputs": [],
   "source": [
    "notebook2 = nbformat.v4.new_notebook(\n",
    "    cells=[\n",
    "        nbformat.v4.new_code_cell(\"print(1)\", execution_count=1, outputs=[]),\n",
    "        nbformat.v4.new_code_cell(\"print(1)\", execution_count=2, outputs=[]),\n",
    "    ]\n",
    ")\n"
   ]
  },
  {
   "cell_type": "code",
   "execution_count": 8,
   "metadata": {},
   "outputs": [
    {
     "name": "stdout",
     "output_type": "stream",
     "text": [
      "\u001b[1m============================= test session starts ==============================\u001b[0m\n",
      "platform darwin -- Python 3.6.7, pytest-5.0.1, py-1.8.0, pluggy-0.12.0\n",
      "rootdir: /private/var/folders/dm/b2qnkb_n3r72slmpxlfmcjvm00lbnd/T/tmpi1ac57rb, inifile: pytest.ini\n",
      "plugins: cov-2.7.1, datadir-1.3.0, regressions-1.0.5, notebook-0.3.1\n",
      "collected 1 item\n",
      "\n",
      "test_notebook2.ipynb \u001b[32m.\u001b[0m\u001b[36m                                                   [100%]\u001b[0m\n",
      "\n",
      "\u001b[33m\u001b[1m===================== 1 passed, 1 warnings in 1.86 seconds =====================\u001b[0m\n"
     ]
    }
   ],
   "source": [
    "%%pytest --color=yes --show-capture=no --disable-warnings --nb-test-files\n",
    "\n",
    "---\n",
    "[pytest]\n",
    "nb_diff_ignore =\n",
    "    /metadata/language_info\n",
    "    /cells/*/outputs/\n",
    "---\n",
    "\n",
    "***\n",
    "(nbformat.writes(notebook2), \"test_notebook2.ipynb\")\n",
    "***"
   ]
  },
  {
   "cell_type": "markdown",
   "metadata": {},
   "source": [
    "## Regex Pattern Replacement"
   ]
  },
  {
   "cell_type": "markdown",
   "metadata": {},
   "source": [
    "Rather than simply ignoring cells, we can apply regex replacements to sections of the notebook, before the diff comparison is made.\n",
    "This is particularly useful for changeable outputs, such as dates and times:"
   ]
  },
  {
   "cell_type": "code",
   "execution_count": 9,
   "metadata": {},
   "outputs": [],
   "source": [
    "notebook3 = nbformat.v4.new_notebook(\n",
    "    cells=[\n",
    "        nbformat.v4.new_code_cell(\n",
    "            (\"from datetime import date\\n\" \"print(date.today())\"),\n",
    "            execution_count=1,\n",
    "            outputs=[\n",
    "                nbformat.v4.new_output(\n",
    "                    output_type=\"stream\", name=\"stdout\", text=\"DATE-STAMP\\n\"\n",
    "                )\n",
    "            ],\n",
    "        )\n",
    "    ]\n",
    ")\n"
   ]
  },
  {
   "cell_type": "code",
   "execution_count": 10,
   "metadata": {},
   "outputs": [
    {
     "name": "stdout",
     "output_type": "stream",
     "text": [
      "\u001b[1m============================= test session starts ==============================\u001b[0m\n",
      "platform darwin -- Python 3.6.7, pytest-5.0.1, py-1.8.0, pluggy-0.12.0\n",
      "rootdir: /private/var/folders/dm/b2qnkb_n3r72slmpxlfmcjvm00lbnd/T/tmp9o5dfwbg, inifile: pytest.ini\n",
      "plugins: cov-2.7.1, datadir-1.3.0, regressions-1.0.5, notebook-0.3.1\n",
      "collected 1 item\n",
      "\n",
      "test_notebook3.ipynb \u001b[31mF\u001b[0m\u001b[36m                                                   [100%]\u001b[0m\n",
      "\n",
      "=================================== FAILURES ===================================\n",
      "\u001b[31m\u001b[1m____________________ notebook: nbregression(test_notebook3) ____________________\u001b[0m\n",
      "pytest_notebook.nb_regression.NBRegressionError: \n",
      "--- expected\n",
      "+++ obtained\n",
      "\u001b[34m## modified /cells/0/outputs/0/text:\u001b[0m\n",
      "\u001b[36m@@ -1 +1 @@\u001b[m\n",
      "\u001b[31m-DATE-STAMP\u001b[m\n",
      "\u001b[32m+\u001b[m\u001b[32m2019-08-12\u001b[m\n",
      "\n",
      "\u001b[0m\n",
      "\u001b[31m\u001b[1m===================== 1 failed, 1 warnings in 1.82 seconds =====================\u001b[0m\n"
     ]
    }
   ],
   "source": [
    "%%pytest --color=yes --show-capture=no --disable-warnings --nb-test-files\n",
    "\n",
    "---\n",
    "[pytest]\n",
    "nb_diff_ignore =\n",
    "    /metadata/language_info\n",
    "---\n",
    "\n",
    "***\n",
    "(nbformat.writes(notebook3), \"test_notebook3.ipynb\")\n",
    "***"
   ]
  },
  {
   "cell_type": "code",
   "execution_count": 11,
   "metadata": {
    "scrolled": true
   },
   "outputs": [
    {
     "name": "stdout",
     "output_type": "stream",
     "text": [
      "\u001b[1m============================= test session starts ==============================\u001b[0m\n",
      "platform darwin -- Python 3.6.7, pytest-5.0.1, py-1.8.0, pluggy-0.12.0\n",
      "rootdir: /private/var/folders/dm/b2qnkb_n3r72slmpxlfmcjvm00lbnd/T/tmptqfgw_j4, inifile: pytest.ini\n",
      "plugins: cov-2.7.1, datadir-1.3.0, regressions-1.0.5, notebook-0.3.1\n",
      "collected 1 item\n",
      "\n",
      "test_notebook3.ipynb \u001b[32m.\u001b[0m\u001b[36m                                                   [100%]\u001b[0m\n",
      "\n",
      "\u001b[33m\u001b[1m===================== 1 passed, 1 warnings in 1.78 seconds =====================\u001b[0m\n"
     ]
    }
   ],
   "source": [
    "%%pytest --color=yes --show-capture=no --disable-warnings --nb-test-files\n",
    "\n",
    "---\n",
    "[pytest]\n",
    "nb_diff_ignore =\n",
    "    /metadata/language_info\n",
    "nb_diff_replace =\n",
    "    /cells/*/outputs/*/text \\d{2,4}-\\d{1,2}-\\d{1,2} \"DATE-STAMP\"\n",
    "---\n",
    "\n",
    "***\n",
    "(nbformat.writes(notebook3), \"test_notebook3.ipynb\")\n",
    "***"
   ]
  },
  {
   "cell_type": "markdown",
   "metadata": {},
   "source": [
    "## Ignoring Exceptions"
   ]
  },
  {
   "cell_type": "markdown",
   "metadata": {},
   "source": [
    "To mark expected exceptions from a notebook cell, tag the cell as `raises-exception`:\n",
    "\n",
    "![Tagging exceptions.](images/nb_tag_except.png)"
   ]
  },
  {
   "cell_type": "code",
   "execution_count": 12,
   "metadata": {},
   "outputs": [],
   "source": [
    "notebook4 = nbformat.v4.new_notebook(\n",
    "    cells=[\n",
    "        nbformat.v4.new_code_cell(\n",
    "            'raise Exception(\"expected error\")',\n",
    "            execution_count=1,\n",
    "            outputs=[\n",
    "                nbformat.v4.new_output(\n",
    "                    output_type=\"error\",\n",
    "                    ename=\"Exception\",\n",
    "                    evalue=\"expected error\",\n",
    "                    traceback=[],\n",
    "                )\n",
    "            ],\n",
    "        )\n",
    "    ]\n",
    ")\n",
    "notebook4.metadata[\"nbreg\"] = {\n",
    "    \"diff_ignore\": [\"/metadata/language_info\", \"/cells/0/outputs/0/traceback\"]\n",
    "}\n"
   ]
  },
  {
   "cell_type": "code",
   "execution_count": 13,
   "metadata": {},
   "outputs": [
    {
     "name": "stdout",
     "output_type": "stream",
     "text": [
      "\u001b[1m============================= test session starts ==============================\u001b[0m\n",
      "platform darwin -- Python 3.6.7, pytest-5.0.1, py-1.8.0, pluggy-0.12.0\n",
      "rootdir: /private/var/folders/dm/b2qnkb_n3r72slmpxlfmcjvm00lbnd/T/tmp7c_xz3le\n",
      "plugins: cov-2.7.1, datadir-1.3.0, regressions-1.0.5, notebook-0.3.1\n",
      "collected 1 item\n",
      "\n",
      "test_notebook4.ipynb \u001b[31mF\u001b[0m\u001b[36m                                                   [100%]\u001b[0m\n",
      "\n",
      "=================================== FAILURES ===================================\n",
      "\u001b[31m\u001b[1m____________________ notebook: nbregression(test_notebook4) ____________________\u001b[0m\n",
      "nbconvert.preprocessors.execute.CellExecutionError: An error occurred while executing the following cell:\n",
      "------------------\n",
      "raise Exception(\"expected error\")\n",
      "------------------\n",
      "\n",
      "\u001b[0;31m---------------------------------------------------------------------------\u001b[0m\n",
      "\u001b[0;31mException\u001b[0m                                 Traceback (most recent call last)\n",
      "\u001b[0;32m<ipython-input-1-ba9385a0cebd>\u001b[0m in \u001b[0;36m<module>\u001b[0;34m\u001b[0m\n",
      "\u001b[0;32m----> 1\u001b[0;31m \u001b[0;32mraise\u001b[0m \u001b[0mException\u001b[0m\u001b[0;34m(\u001b[0m\u001b[0;34m\"expected error\"\u001b[0m\u001b[0;34m)\u001b[0m\u001b[0;34m\u001b[0m\u001b[0;34m\u001b[0m\u001b[0m\n",
      "\u001b[0m\n",
      "\u001b[0;31mException\u001b[0m: expected error\n",
      "Exception: expected error\n",
      "\u001b[31m\u001b[1m===================== 1 failed, 1 warnings in 1.99 seconds =====================\u001b[0m\n"
     ]
    }
   ],
   "source": [
    "%%pytest --color=yes --show-capture=no --disable-warnings --nb-test-files\n",
    "\n",
    "***\n",
    "(nbformat.writes(notebook4), \"test_notebook4.ipynb\")\n",
    "***"
   ]
  },
  {
   "cell_type": "code",
   "execution_count": 14,
   "metadata": {},
   "outputs": [],
   "source": [
    "notebook4.cells[0].metadata[\"tags\"] = [\"raises-exception\"]\n"
   ]
  },
  {
   "cell_type": "code",
   "execution_count": 15,
   "metadata": {
    "scrolled": true
   },
   "outputs": [
    {
     "name": "stdout",
     "output_type": "stream",
     "text": [
      "\u001b[1m============================= test session starts ==============================\u001b[0m\n",
      "platform darwin -- Python 3.6.7, pytest-5.0.1, py-1.8.0, pluggy-0.12.0\n",
      "rootdir: /private/var/folders/dm/b2qnkb_n3r72slmpxlfmcjvm00lbnd/T/tmp6afkt4t2\n",
      "plugins: cov-2.7.1, datadir-1.3.0, regressions-1.0.5, notebook-0.3.1\n",
      "collected 1 item\n",
      "\n",
      "test_notebook4.ipynb \u001b[32m.\u001b[0m\u001b[36m                                                   [100%]\u001b[0m\n",
      "\n",
      "\u001b[33m\u001b[1m===================== 1 passed, 1 warnings in 1.95 seconds =====================\u001b[0m\n"
     ]
    }
   ],
   "source": [
    "%%pytest --color=yes --disable-warnings --nb-test-files\n",
    "\n",
    "***\n",
    "(nbformat.writes(notebook4), \"test_notebook4.ipynb\")\n",
    "***"
   ]
  },
  {
   "cell_type": "markdown",
   "metadata": {},
   "source": [
    "## Skipping Notebooks"
   ]
  },
  {
   "cell_type": "markdown",
   "metadata": {},
   "source": [
    "To add the [pytest skip decorator](http://doc.pytest.org/en/latest/skipping.html#skipping-test-functions) to a notebook, you can add `skip=True` to the notebook metadata."
   ]
  },
  {
   "cell_type": "code",
   "execution_count": 16,
   "metadata": {},
   "outputs": [
    {
     "data": {
      "text/plain": [
       "{'nbformat': 4,\n",
       " 'nbformat_minor': 2,\n",
       " 'metadata': {'nbreg': {'skip': True,\n",
       "   'skip_reason': 'Not ready for testing.'}},\n",
       " 'cells': []}"
      ]
     },
     "execution_count": 16,
     "metadata": {},
     "output_type": "execute_result"
    }
   ],
   "source": [
    "notebook5 = nbformat.v4.new_notebook()\n",
    "notebook5.metadata[\"nbreg\"] = {\"skip\": True, \"skip_reason\": \"Not ready for testing.\"}\n",
    "notebook5\n"
   ]
  },
  {
   "cell_type": "code",
   "execution_count": 17,
   "metadata": {},
   "outputs": [
    {
     "name": "stdout",
     "output_type": "stream",
     "text": [
      "\u001b[1m============================= test session starts ==============================\u001b[0m\n",
      "platform darwin -- Python 3.6.7, pytest-5.0.1, py-1.8.0, pluggy-0.12.0 -- //anaconda/envs/pytest_nb/bin/python\n",
      "cachedir: .pytest_cache\n",
      "rootdir: /private/var/folders/dm/b2qnkb_n3r72slmpxlfmcjvm00lbnd/T/tmp2dwyx8o_\n",
      "plugins: cov-2.7.1, datadir-1.3.0, regressions-1.0.5, notebook-0.3.1\n",
      "\u001b[1mcollecting ... \u001b[0mcollected 1 item\n",
      "\n",
      "test_notebook5.ipynb::nbregression(test_notebook5) \u001b[33mSKIPPED\u001b[0m\u001b[36m               [100%]\u001b[0m\n",
      "\n",
      "=========================== short test summary info ============================\n",
      "SKIPPED [1] test_notebook5.ipynb: Not ready for testing.\n",
      "\u001b[33m\u001b[1m========================== 1 skipped in 0.05 seconds ===========================\u001b[0m\n"
     ]
    }
   ],
   "source": [
    "%%pytest -v --color=yes -rs --nb-test-files\n",
    "\n",
    "***\n",
    "(nbformat.writes(notebook5), \"test_notebook5.ipynb\")\n",
    "***"
   ]
  },
  {
   "cell_type": "markdown",
   "metadata": {},
   "source": [
    ".. _post_processors:\n",
    "\n",
    "## Post-processors"
   ]
  },
  {
   "cell_type": "markdown",
   "metadata": {},
   "source": [
    "Post-processors are applied to the final notebook, before diff comparison. These can be added by external packages,\n",
    "using the `nbreg.post_proc` group [entry point](https://docs.pytest.org/en/latest/writing_plugins.html#setuptools-entry-points):\n",
    "\n",
    ".. code-block: python\n",
    "\n",
    "    # setup.py\n",
    "    from setuptools import setup\n",
    "\n",
    "    setup(\n",
    "        name=\"myproject\",\n",
    "        packages=[\"myproject\"],\n",
    "        entry_points={\n",
    "            \"nbreg.post_proc\": [\n",
    "                \"blacken_code = post_processors:blacken_code\"\n",
    "        ]},\n",
    "    )\n",
    "\n",
    "\n",
    ".. seealso::\n",
    "\n",
    "    :py:mod:`pytest_notebook.post_processors`\n",
    "    for the internally provided plugins."
   ]
  },
  {
   "cell_type": "markdown",
   "metadata": {},
   "source": [
    "An example of this is the `blacken_code` post-processor,\n",
    "which applies the [black](https://github.com/ambv/black) formatter\n",
    "to all source code cells.\n",
    "\n",
    "This is particularly useful for re-generating notebooks."
   ]
  },
  {
   "cell_type": "code",
   "execution_count": 18,
   "metadata": {},
   "outputs": [],
   "source": [
    "notebook6 = nbformat.v4.new_notebook(\n",
    "    cells=[\n",
    "        nbformat.v4.new_code_cell(\n",
    "            (\n",
    "                \"for i in range(5  ) :\\n\"\n",
    "                \"  x=i\\n\"\n",
    "                \"  a ='123'# comment\\n\"\n",
    "                \"c = ['a fairly long line of text', \"\n",
    "                \"'another fairly long line of text',\\n\"\n",
    "                \"'yet another fairly long line of text']\"\n",
    "            ),\n",
    "            execution_count=1,\n",
    "            outputs=[],\n",
    "        )\n",
    "    ]\n",
    ")\n"
   ]
  },
  {
   "cell_type": "code",
   "execution_count": 19,
   "metadata": {},
   "outputs": [
    {
     "name": "stdout",
     "output_type": "stream",
     "text": [
      "\u001b[1m============================= test session starts ==============================\u001b[0m\n",
      "platform darwin -- Python 3.6.7, pytest-5.0.1, py-1.8.0, pluggy-0.12.0\n",
      "rootdir: /private/var/folders/dm/b2qnkb_n3r72slmpxlfmcjvm00lbnd/T/tmpsfohsyb5, inifile: pytest.ini\n",
      "plugins: cov-2.7.1, datadir-1.3.0, regressions-1.0.5, notebook-0.3.1\n",
      "collected 1 item\n",
      "\n",
      "test_notebook6.ipynb \u001b[31mF\u001b[0m\u001b[36m                                                   [100%]\u001b[0m\n",
      "\n",
      "=================================== FAILURES ===================================\n",
      "\u001b[31m\u001b[1m____________________ notebook: nbregression(test_notebook6) ____________________\u001b[0m\n",
      "pytest_notebook.nb_regression.NBRegressionError: Files differ and --nb-force-regen set, regenerating file at:\n",
      "- /private/var/folders/dm/b2qnkb_n3r72slmpxlfmcjvm00lbnd/T/tmpsfohsyb5/test_notebook6.ipynb\n",
      "----------------------------- Captured stderr call -----------------------------\n",
      "Diff before regeneration:\n",
      "\n",
      "--- expected\n",
      "+++ obtained\n",
      "\u001b[34m## modified /cells/0/source:\u001b[0m\n",
      "\u001b[36m@@ -1,5 +1,8 @@\u001b[m\n",
      "\u001b[31m-for i in range(5  ) :\u001b[m\n",
      "\u001b[31m-  x=i\u001b[m\n",
      "\u001b[31m-  a ='123'# comment\u001b[m\n",
      "\u001b[31m-c = ['a fairly long line of text', 'another fairly long line of text',\u001b[m\n",
      "\u001b[31m-'yet another fairly long line of text']\u001b[m\n",
      "\u001b[m\n",
      "\u001b[32m+\u001b[m\u001b[32mfor i in range(5):\u001b[m\n",
      "\u001b[32m+\u001b[m\u001b[32m    x = i\u001b[m\n",
      "\u001b[32m+\u001b[m\u001b[32m    a = \"123\"  # comment\u001b[m\n",
      "\u001b[32m+\u001b[m\u001b[32mc = [\u001b[m\n",
      "\u001b[32m+\u001b[m\u001b[32m    \"a fairly long line of text\",\u001b[m\n",
      "\u001b[32m+\u001b[m\u001b[32m    \"another fairly long line of text\",\u001b[m\n",
      "\u001b[32m+\u001b[m\u001b[32m    \"yet another fairly long line of text\",\u001b[m\n",
      "\u001b[32m+\u001b[m\u001b[32m]\u001b[m\n",
      "\n",
      "\u001b[0m\n",
      "\u001b[31m\u001b[1m=========================== 1 failed in 0.45 seconds ===========================\u001b[0m\n"
     ]
    }
   ],
   "source": [
    "%%pytest --color=yes --disable-warnings --nb-test-files --nb-force-regen\n",
    "\n",
    "---\n",
    "[pytest]\n",
    "nb_exec_notebook = False\n",
    "nb_diff_ignore =\n",
    "    /metadata/language_info\n",
    "nb_post_processors =\n",
    "    coalesce_streams\n",
    "    blacken_code\n",
    "---\n",
    "\n",
    "***\n",
    "(nbformat.writes(notebook6), \"test_notebook6.ipynb\")\n",
    "***"
   ]
  }
 ],
 "metadata": {
  "kernelspec": {
   "display_name": "Python 3",
   "language": "python",
   "name": "python3"
  },
  "language_info": {
   "codemirror_mode": {
    "name": "ipython",
    "version": 3
   },
   "file_extension": ".py",
   "mimetype": "text/x-python",
   "name": "python",
   "nbconvert_exporter": "python",
   "pygments_lexer": "ipython3",
   "version": "3.6.7"
  }
 },
 "nbformat": 4,
 "nbformat_minor": 2
}
