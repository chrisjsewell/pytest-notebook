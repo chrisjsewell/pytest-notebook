{
 "cells": [
  {
   "cell_type": "markdown",
   "metadata": {},
   "source": [
    ".. _configuring_pytest_notebook:\n",
    "\n",
    "# Configuring pytest-notebook"
   ]
  },
  {
   "cell_type": "markdown",
   "metadata": {},
   "source": [
    "Testing can be configured *via*;\n",
    "\n",
    "1. The pytest configuration file.\n",
    "2. The pytest command-line interface.\n",
    "3. The notebook and cell level metadata.\n",
    "\n",
    "To see the options available for (1) and (2), `pytest -h` can be used (look for options starting `nb`), and for (3) see :ref:`nb_metadata_schema`."
   ]
  },
  {
   "cell_type": "markdown",
   "metadata": {},
   "source": [
    "To access notebook metadata, either open the notebook as a text document, or use the Jupyter Notebook interface:\n",
    "\n",
    "![Accessing notebook metadata.](images/nb_metadata.png)"
   ]
  },
  {
   "cell_type": "code",
   "execution_count": 2,
   "metadata": {},
   "outputs": [],
   "source": [
    "import nbformat"
   ]
  },
  {
   "cell_type": "code",
   "execution_count": 7,
   "metadata": {
    "scrolled": true
   },
   "outputs": [],
   "source": [
    "%load_ext pytest_notebook.ipy_magic"
   ]
  },
  {
   "cell_type": "markdown",
   "metadata": {},
   "source": [
    "## Ignoring Elements of the Notebook"
   ]
  },
  {
   "cell_type": "code",
   "execution_count": 62,
   "metadata": {},
   "outputs": [],
   "source": [
    "notebook = nbformat.v4.new_notebook(\n",
    "    cells=[\n",
    "        nbformat.v4.new_code_cell(\n",
    "            \"print(1)\",\n",
    "            execution_count=1,\n",
    "            outputs=[]),\n",
    "        nbformat.v4.new_code_cell(\n",
    "            \"print(1)\",\n",
    "            execution_count=3,\n",
    "            outputs=[\n",
    "                nbformat.v4.new_output(\n",
    "                    output_type=\"stream\",\n",
    "                    name=\"stdout\",\n",
    "                    text=\"2\\n\")])\n",
    "    ])"
   ]
  },
  {
   "cell_type": "code",
   "execution_count": 63,
   "metadata": {},
   "outputs": [
    {
     "name": "stdout",
     "output_type": "stream",
     "text": [
      "\u001b[1m============================= test session starts ==============================\u001b[0m\n",
      "platform darwin -- Python 3.6.7, pytest-5.0.1, py-1.8.0, pluggy-0.12.0\n",
      "rootdir: /private/var/folders/dm/b2qnkb_n3r72slmpxlfmcjvm00lbnd/T/tmpi00vz37j\n",
      "plugins: cov-2.7.1, datadir-1.3.0, regressions-1.0.5, notebook-0.3.1\n",
      "collected 1 item\n",
      "\n",
      "test_notebook1.ipynb \u001b[31mF\u001b[0m\u001b[36m                                                   [100%]\u001b[0m\n",
      "\n",
      "=================================== FAILURES ===================================\n",
      "\u001b[31m\u001b[1m____________________ notebook: nbregression(test_notebook1) ____________________\u001b[0m\n",
      "pytest_notebook.nb_regression.NBRegressionError: \n",
      "--- expected\n",
      "+++ obtained\n",
      "\u001b[34m## inserted before /cells/0/outputs/0:\u001b[0m\n",
      "\u001b[32m+  output:\n",
      "\u001b[32m+    output_type: stream\n",
      "\u001b[32m+    name: stdout\n",
      "\u001b[32m+    text:\n",
      "\u001b[32m+      1\n",
      "\n",
      "\u001b[0m\u001b[34m## replaced /cells/1/execution_count:\u001b[0m\n",
      "\u001b[31m-  3\n",
      "\u001b[32m+  2\n",
      "\n",
      "\u001b[0m\u001b[34m## modified /cells/1/outputs/0/text:\u001b[0m\n",
      "\u001b[36m@@ -1 +1 @@\u001b[m\n",
      "\u001b[31m-2\u001b[m\n",
      "\u001b[32m+\u001b[m\u001b[32m1\u001b[m\n",
      "\n",
      "\u001b[0m\u001b[34m## added /metadata/language_info:\u001b[0m\n",
      "\u001b[32m+  codemirror_mode:\n",
      "\u001b[32m+    name: ipython\n",
      "\u001b[32m+    version: 3\n",
      "\u001b[32m+  file_extension: .py\n",
      "\u001b[32m+  mimetype: text/x-python\n",
      "\u001b[32m+  name: python\n",
      "\u001b[32m+  nbconvert_exporter: python\n",
      "\u001b[32m+  pygments_lexer: ipython3\n",
      "\u001b[32m+  version: 3.6.7\n",
      "\n",
      "\u001b[0m\n",
      "\u001b[31m\u001b[1m===================== 1 failed, 1 warnings in 2.36 seconds =====================\u001b[0m\n"
     ]
    }
   ],
   "source": [
    "%%pytest --color=yes --show-capture=no --disable-warnings --nb-test-files\n",
    "\n",
    "***\n",
    "(nbformat.writes(notebook), \"test_notebook1.ipynb\")\n",
    "***"
   ]
  },
  {
   "cell_type": "code",
   "execution_count": 64,
   "metadata": {},
   "outputs": [],
   "source": [
    "notebook.metadata[\"nbreg\"] = {\n",
    "    \"diff_ignore\": [\n",
    "        \"/cells/0/outputs/\"\n",
    "]}\n",
    "notebook.cells[1].metadata[\"nbreg\"] = {\n",
    "    \"diff_ignore\": [\n",
    "        \"/outputs/0/text\"\n",
    "]}"
   ]
  },
  {
   "cell_type": "code",
   "execution_count": 80,
   "metadata": {},
   "outputs": [
    {
     "name": "stdout",
     "output_type": "stream",
     "text": [
      "\u001b[1m============================= test session starts ==============================\u001b[0m\n",
      "platform darwin -- Python 3.6.7, pytest-5.0.1, py-1.8.0, pluggy-0.12.0\n",
      "rootdir: /private/var/folders/dm/b2qnkb_n3r72slmpxlfmcjvm00lbnd/T/tmp10hoatev, inifile: pytest.ini\n",
      "plugins: cov-2.7.1, datadir-1.3.0, regressions-1.0.5, notebook-0.3.1\n",
      "collected 1 item\n",
      "\n",
      "test_notebook1.ipynb \u001b[32m.\u001b[0m\u001b[36m                                                   [100%]\u001b[0m\n",
      "\n",
      "\u001b[33m\u001b[1m===================== 1 passed, 1 warnings in 2.22 seconds =====================\u001b[0m\n"
     ]
    }
   ],
   "source": [
    "%%pytest --color=yes --show-capture=no --disable-warnings --nb-test-files\n",
    "\n",
    "---\n",
    "[pytest]\n",
    "nb_diff_ignore =\n",
    "    /metadata/language_info\n",
    "    /cells/1/execution_count\n",
    "---\n",
    "\n",
    "***\n",
    "(nbformat.writes(notebook), \"test_notebook1.ipynb\")\n",
    "***"
   ]
  },
  {
   "cell_type": "code",
   "execution_count": 60,
   "metadata": {},
   "outputs": [],
   "source": [
    "notebook2 = nbformat.v4.new_notebook(\n",
    "    cells=[\n",
    "        nbformat.v4.new_code_cell(\n",
    "            \"print(1)\",\n",
    "            execution_count=1,\n",
    "            outputs=[]),\n",
    "        nbformat.v4.new_code_cell(\n",
    "            \"print(1)\",\n",
    "            execution_count=2,\n",
    "            outputs=[])\n",
    "    ])"
   ]
  },
  {
   "cell_type": "code",
   "execution_count": 61,
   "metadata": {},
   "outputs": [
    {
     "name": "stdout",
     "output_type": "stream",
     "text": [
      "\u001b[1m============================= test session starts ==============================\u001b[0m\n",
      "platform darwin -- Python 3.6.7, pytest-5.0.1, py-1.8.0, pluggy-0.12.0\n",
      "rootdir: /private/var/folders/dm/b2qnkb_n3r72slmpxlfmcjvm00lbnd/T/tmp3mqowian, inifile: pytest.ini\n",
      "plugins: cov-2.7.1, datadir-1.3.0, regressions-1.0.5, notebook-0.3.1\n",
      "collected 1 item\n",
      "\n",
      "test_notebook2.ipynb \u001b[32m.\u001b[0m\u001b[36m                                                   [100%]\u001b[0m\n",
      "\n",
      "\u001b[33m\u001b[1m===================== 1 passed, 1 warnings in 2.27 seconds =====================\u001b[0m\n"
     ]
    }
   ],
   "source": [
    "%%pytest --color=yes --show-capture=no --disable-warnings --nb-test-files\n",
    "\n",
    "---\n",
    "[pytest]\n",
    "nb_diff_ignore =\n",
    "    /metadata/language_info\n",
    "    /cells/*/outputs/\n",
    "---\n",
    "\n",
    "***\n",
    "(nbformat.writes(notebook2), \"test_notebook2.ipynb\")\n",
    "***"
   ]
  },
  {
   "cell_type": "markdown",
   "metadata": {},
   "source": [
    "## Regex Pattern Replacement"
   ]
  },
  {
   "cell_type": "code",
   "execution_count": 66,
   "metadata": {},
   "outputs": [],
   "source": [
    "notebook3 = nbformat.v4.new_notebook(\n",
    "    cells=[\n",
    "        nbformat.v4.new_code_cell(\n",
    "            ('from datetime import date\\n'\n",
    "             'print(date.today())'),\n",
    "            execution_count=1,\n",
    "            outputs=[\n",
    "                nbformat.v4.new_output(\n",
    "                    output_type=\"stream\",\n",
    "                    name=\"stdout\",\n",
    "                    text=\"DATE-STAMP\\n\"\n",
    "                )])])"
   ]
  },
  {
   "cell_type": "code",
   "execution_count": 67,
   "metadata": {},
   "outputs": [
    {
     "name": "stdout",
     "output_type": "stream",
     "text": [
      "\u001b[1m============================= test session starts ==============================\u001b[0m\n",
      "platform darwin -- Python 3.6.7, pytest-5.0.1, py-1.8.0, pluggy-0.12.0\n",
      "rootdir: /private/var/folders/dm/b2qnkb_n3r72slmpxlfmcjvm00lbnd/T/tmpnaw18gqe, inifile: pytest.ini\n",
      "plugins: cov-2.7.1, datadir-1.3.0, regressions-1.0.5, notebook-0.3.1\n",
      "collected 1 item\n",
      "\n",
      "test_notebook3.ipynb \u001b[31mF\u001b[0m\u001b[36m                                                   [100%]\u001b[0m\n",
      "\n",
      "=================================== FAILURES ===================================\n",
      "\u001b[31m\u001b[1m____________________ notebook: nbregression(test_notebook3) ____________________\u001b[0m\n",
      "pytest_notebook.nb_regression.NBRegressionError: \n",
      "--- expected\n",
      "+++ obtained\n",
      "\u001b[34m## modified /cells/0/outputs/0/text:\u001b[0m\n",
      "\u001b[36m@@ -1 +1 @@\u001b[m\n",
      "\u001b[31m-DATE-STAMP\u001b[m\n",
      "\u001b[32m+\u001b[m\u001b[32m2019-08-12\u001b[m\n",
      "\n",
      "\u001b[0m\n",
      "\u001b[31m\u001b[1m===================== 1 failed, 1 warnings in 2.12 seconds =====================\u001b[0m\n"
     ]
    }
   ],
   "source": [
    "%%pytest --color=yes --show-capture=no --disable-warnings --nb-test-files\n",
    "\n",
    "---\n",
    "[pytest]\n",
    "nb_diff_ignore =\n",
    "    /metadata/language_info\n",
    "---\n",
    "\n",
    "***\n",
    "(nbformat.writes(notebook3), \"test_notebook3.ipynb\")\n",
    "***"
   ]
  },
  {
   "cell_type": "code",
   "execution_count": 68,
   "metadata": {
    "scrolled": true
   },
   "outputs": [
    {
     "name": "stdout",
     "output_type": "stream",
     "text": [
      "\u001b[1m============================= test session starts ==============================\u001b[0m\n",
      "platform darwin -- Python 3.6.7, pytest-5.0.1, py-1.8.0, pluggy-0.12.0\n",
      "rootdir: /private/var/folders/dm/b2qnkb_n3r72slmpxlfmcjvm00lbnd/T/tmpub9_yliq, inifile: pytest.ini\n",
      "plugins: cov-2.7.1, datadir-1.3.0, regressions-1.0.5, notebook-0.3.1\n",
      "collected 1 item\n",
      "\n",
      "test_notebook3.ipynb \u001b[32m.\u001b[0m\u001b[36m                                                   [100%]\u001b[0m\n",
      "\n",
      "\u001b[33m\u001b[1m===================== 1 passed, 1 warnings in 2.14 seconds =====================\u001b[0m\n"
     ]
    }
   ],
   "source": [
    "%%pytest --color=yes --show-capture=no --disable-warnings --nb-test-files\n",
    "\n",
    "---\n",
    "[pytest]\n",
    "nb_diff_ignore =\n",
    "    /metadata/language_info\n",
    "nb_diff_replace =\n",
    "    /cells/*/outputs/*/text \\d{2,4}-\\d{1,2}-\\d{1,2} \"DATE-STAMP\"\n",
    "---\n",
    "\n",
    "***\n",
    "(nbformat.writes(notebook3), \"test_notebook3.ipynb\")\n",
    "***"
   ]
  },
  {
   "cell_type": "markdown",
   "metadata": {},
   "source": [
    "## Ignoring Exceptions"
   ]
  },
  {
   "cell_type": "markdown",
   "metadata": {},
   "source": [
    "To mark expected exceptions from a notebook cell, tag the cell as `raises-exception`:\n",
    "\n",
    "![Tagging exceptions.](images/nb_tag_except.png)"
   ]
  },
  {
   "cell_type": "code",
   "execution_count": 69,
   "metadata": {},
   "outputs": [],
   "source": [
    "notebook4 = nbformat.v4.new_notebook(\n",
    "    cells=[\n",
    "        nbformat.v4.new_code_cell(\n",
    "        'raise Exception(\"expected error\")',\n",
    "            execution_count=1,\n",
    "            outputs=[\n",
    "                nbformat.v4.new_output(\n",
    "                    output_type=\"error\",\n",
    "                    ename=\"Exception\",\n",
    "                    evalue=\"expected error\",\n",
    "                    traceback=[]\n",
    "                )])])\n",
    "notebook4.metadata[\"nbreg\"] = {\n",
    "    \"diff_ignore\": [\n",
    "        \"/metadata/language_info\",\n",
    "        \"/cells/0/outputs/0/traceback\"\n",
    "]}"
   ]
  },
  {
   "cell_type": "code",
   "execution_count": 70,
   "metadata": {},
   "outputs": [
    {
     "name": "stdout",
     "output_type": "stream",
     "text": [
      "\u001b[1m============================= test session starts ==============================\u001b[0m\n",
      "platform darwin -- Python 3.6.7, pytest-5.0.1, py-1.8.0, pluggy-0.12.0\n",
      "rootdir: /private/var/folders/dm/b2qnkb_n3r72slmpxlfmcjvm00lbnd/T/tmpn07iwm0v\n",
      "plugins: cov-2.7.1, datadir-1.3.0, regressions-1.0.5, notebook-0.3.1\n",
      "collected 1 item\n",
      "\n",
      "test_notebook4.ipynb \u001b[31mF\u001b[0m\u001b[36m                                                   [100%]\u001b[0m\n",
      "\n",
      "=================================== FAILURES ===================================\n",
      "\u001b[31m\u001b[1m____________________ notebook: nbregression(test_notebook4) ____________________\u001b[0m\n",
      "nbconvert.preprocessors.execute.CellExecutionError: An error occurred while executing the following cell:\n",
      "------------------\n",
      "raise Exception(\"expected error\")\n",
      "------------------\n",
      "\n",
      "\u001b[0;31m---------------------------------------------------------------------------\u001b[0m\n",
      "\u001b[0;31mException\u001b[0m                                 Traceback (most recent call last)\n",
      "\u001b[0;32m<ipython-input-1-ba9385a0cebd>\u001b[0m in \u001b[0;36m<module>\u001b[0;34m\u001b[0m\n",
      "\u001b[0;32m----> 1\u001b[0;31m \u001b[0;32mraise\u001b[0m \u001b[0mException\u001b[0m\u001b[0;34m(\u001b[0m\u001b[0;34m\"expected error\"\u001b[0m\u001b[0;34m)\u001b[0m\u001b[0;34m\u001b[0m\u001b[0;34m\u001b[0m\u001b[0m\n",
      "\u001b[0m\n",
      "\u001b[0;31mException\u001b[0m: expected error\n",
      "Exception: expected error\n",
      "\u001b[31m\u001b[1m===================== 1 failed, 1 warnings in 2.35 seconds =====================\u001b[0m\n"
     ]
    }
   ],
   "source": [
    "%%pytest --color=yes --show-capture=no --disable-warnings --nb-test-files\n",
    "\n",
    "***\n",
    "(nbformat.writes(notebook4), \"test_notebook4.ipynb\")\n",
    "***"
   ]
  },
  {
   "cell_type": "code",
   "execution_count": 73,
   "metadata": {},
   "outputs": [],
   "source": [
    "notebook4.cells[0].metadata[\"tags\"] = [\"raises-exception\"]"
   ]
  },
  {
   "cell_type": "code",
   "execution_count": 74,
   "metadata": {
    "scrolled": true
   },
   "outputs": [
    {
     "name": "stdout",
     "output_type": "stream",
     "text": [
      "\u001b[1m============================= test session starts ==============================\u001b[0m\n",
      "platform darwin -- Python 3.6.7, pytest-5.0.1, py-1.8.0, pluggy-0.12.0\n",
      "rootdir: /private/var/folders/dm/b2qnkb_n3r72slmpxlfmcjvm00lbnd/T/tmp3bk9mzba\n",
      "plugins: cov-2.7.1, datadir-1.3.0, regressions-1.0.5, notebook-0.3.1\n",
      "collected 1 item\n",
      "\n",
      "test_notebook4.ipynb \u001b[32m.\u001b[0m\u001b[36m                                                   [100%]\u001b[0m\n",
      "\n",
      "\u001b[33m\u001b[1m===================== 1 passed, 1 warnings in 2.45 seconds =====================\u001b[0m\n"
     ]
    }
   ],
   "source": [
    "%%pytest --color=yes --disable-warnings --nb-test-files\n",
    "\n",
    "***\n",
    "(nbformat.writes(notebook4), \"test_notebook4.ipynb\")\n",
    "***"
   ]
  },
  {
   "cell_type": "markdown",
   "metadata": {},
   "source": [
    "## Skipping Notebooks"
   ]
  },
  {
   "cell_type": "markdown",
   "metadata": {},
   "source": [
    "To add the [pytest skip decorator](http://doc.pytest.org/en/latest/skipping.html#skipping-test-functions) to a notebook, you can add `skip=True` to the notebook metadata."
   ]
  },
  {
   "cell_type": "code",
   "execution_count": 75,
   "metadata": {},
   "outputs": [
    {
     "data": {
      "text/plain": [
       "{'nbformat': 4,\n",
       " 'nbformat_minor': 2,\n",
       " 'metadata': {'nbreg': {'skip': True,\n",
       "   'skip_reason': 'Not ready for testing.'}},\n",
       " 'cells': []}"
      ]
     },
     "execution_count": 75,
     "metadata": {},
     "output_type": "execute_result"
    }
   ],
   "source": [
    "notebook5 = nbformat.v4.new_notebook()\n",
    "notebook5.metadata[\"nbreg\"] = {\n",
    "    \"skip\": True,\n",
    "    \"skip_reason\": \"Not ready for testing.\"\n",
    "}\n",
    "notebook5"
   ]
  },
  {
   "cell_type": "code",
   "execution_count": 77,
   "metadata": {},
   "outputs": [
    {
     "name": "stdout",
     "output_type": "stream",
     "text": [
      "\u001b[1m============================= test session starts ==============================\u001b[0m\n",
      "platform darwin -- Python 3.6.7, pytest-5.0.1, py-1.8.0, pluggy-0.12.0 -- //anaconda/envs/pytest_nb/bin/python\n",
      "cachedir: .pytest_cache\n",
      "rootdir: /private/var/folders/dm/b2qnkb_n3r72slmpxlfmcjvm00lbnd/T/tmpmah5vrt1\n",
      "plugins: cov-2.7.1, datadir-1.3.0, regressions-1.0.5, notebook-0.3.1\n",
      "\u001b[1mcollecting ... \u001b[0mcollected 1 item\n",
      "\n",
      "test_notebook5.ipynb::nbregression(test_notebook5) \u001b[33mSKIPPED\u001b[0m\u001b[36m               [100%]\u001b[0m\n",
      "\n",
      "=========================== short test summary info ============================\n",
      "SKIPPED [1] test_notebook5.ipynb: Not ready for testing.\n",
      "\u001b[33m\u001b[1m========================== 1 skipped in 0.06 seconds ===========================\u001b[0m\n"
     ]
    }
   ],
   "source": [
    "%%pytest -v --color=yes -rs --nb-test-files\n",
    "\n",
    "***\n",
    "(nbformat.writes(notebook5), \"test_notebook5.ipynb\")\n",
    "***"
   ]
  },
  {
   "cell_type": "markdown",
   "metadata": {},
   "source": [
    "## Post-processors"
   ]
  },
  {
   "cell_type": "markdown",
   "metadata": {},
   "source": []
  },
  {
   "cell_type": "code",
   "execution_count": 95,
   "metadata": {},
   "outputs": [],
   "source": [
    "notebook6 = nbformat.v4.new_notebook(\n",
    "    cells=[\n",
    "        nbformat.v4.new_code_cell(\n",
    "            (\n",
    "                \"for i in range(5  ) :\\n\"\n",
    "                \"  x=i\\n\"\n",
    "                \"  a ='123'# comment\\n\"\n",
    "                \"c = ['a fairly long line of text', \"\n",
    "                \"'another fairly long line of text',\\n\"\n",
    "                \"'yet another fairly long line of text']\"\n",
    "            ),\n",
    "            execution_count=1,\n",
    "            outputs=[])\n",
    "    ])"
   ]
  },
  {
   "cell_type": "code",
   "execution_count": 96,
   "metadata": {},
   "outputs": [
    {
     "name": "stdout",
     "output_type": "stream",
     "text": [
      "\u001b[1m============================= test session starts ==============================\u001b[0m\n",
      "platform darwin -- Python 3.6.7, pytest-5.0.1, py-1.8.0, pluggy-0.12.0\n",
      "rootdir: /private/var/folders/dm/b2qnkb_n3r72slmpxlfmcjvm00lbnd/T/tmpxc1klind, inifile: pytest.ini\n",
      "plugins: cov-2.7.1, datadir-1.3.0, regressions-1.0.5, notebook-0.3.1\n",
      "collected 1 item\n",
      "\n",
      "test_notebook6.ipynb \u001b[31mF\u001b[0m\u001b[36m                                                   [100%]\u001b[0m\n",
      "\n",
      "=================================== FAILURES ===================================\n",
      "\u001b[31m\u001b[1m____________________ notebook: nbregression(test_notebook6) ____________________\u001b[0m\n",
      "pytest_notebook.nb_regression.NBRegressionError: Files differ and --nb-force-regen set, regenerating file at:\n",
      "- /private/var/folders/dm/b2qnkb_n3r72slmpxlfmcjvm00lbnd/T/tmpxc1klind/test_notebook6.ipynb\n",
      "----------------------------- Captured stderr call -----------------------------\n",
      "Diff before regeneration:\n",
      "\n",
      "--- expected\n",
      "+++ obtained\n",
      "\u001b[34m## modified /cells/0/source:\u001b[0m\n",
      "\u001b[36m@@ -1,5 +1,8 @@\u001b[m\n",
      "\u001b[31m-for i in range(5  ) :\u001b[m\n",
      "\u001b[31m-  x=i\u001b[m\n",
      "\u001b[31m-  a ='123'# comment\u001b[m\n",
      "\u001b[31m-c = ['a fairly long line of text', 'another fairly long line of text',\u001b[m\n",
      "\u001b[31m-'yet another fairly long line of text']\u001b[m\n",
      "\u001b[m\n",
      "\u001b[32m+\u001b[m\u001b[32mfor i in range(5):\u001b[m\n",
      "\u001b[32m+\u001b[m\u001b[32m    x = i\u001b[m\n",
      "\u001b[32m+\u001b[m\u001b[32m    a = \"123\"  # comment\u001b[m\n",
      "\u001b[32m+\u001b[m\u001b[32mc = [\u001b[m\n",
      "\u001b[32m+\u001b[m\u001b[32m    \"a fairly long line of text\",\u001b[m\n",
      "\u001b[32m+\u001b[m\u001b[32m    \"another fairly long line of text\",\u001b[m\n",
      "\u001b[32m+\u001b[m\u001b[32m    \"yet another fairly long line of text\",\u001b[m\n",
      "\u001b[32m+\u001b[m\u001b[32m]\u001b[m\n",
      "\n",
      "\u001b[0m\n",
      "\u001b[31m\u001b[1m===================== 1 failed, 1 warnings in 2.53 seconds =====================\u001b[0m\n"
     ]
    }
   ],
   "source": [
    "%%pytest --color=yes --disable-warnings --nb-test-files --nb-force-regen\n",
    "\n",
    "---\n",
    "[pytest]\n",
    "nb_diff_ignore =\n",
    "    /metadata/language_info\n",
    "nb_post_processors =\n",
    "    coalesce_streams\n",
    "    blacken_code\n",
    "---\n",
    "\n",
    "***\n",
    "(nbformat.writes(notebook6), \"test_notebook6.ipynb\")\n",
    "***"
   ]
  }
 ],
 "metadata": {
  "kernelspec": {
   "display_name": "Python 3",
   "language": "python",
   "name": "python3"
  },
  "language_info": {
   "codemirror_mode": {
    "name": "ipython",
    "version": 3
   },
   "file_extension": ".py",
   "mimetype": "text/x-python",
   "name": "python",
   "nbconvert_exporter": "python",
   "pygments_lexer": "ipython3",
   "version": "3.6.7"
  }
 },
 "nbformat": 4,
 "nbformat_minor": 2
}
